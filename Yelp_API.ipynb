{
 "cells": [
  {
   "cell_type": "code",
   "execution_count": 1,
   "id": "dcbd8f70",
   "metadata": {
    "tags": []
   },
   "outputs": [
    {
     "data": {
      "text/plain": [
       "dict_keys(['client-id', 'api-key'])"
      ]
     },
     "execution_count": 1,
     "metadata": {},
     "output_type": "execute_result"
    }
   ],
   "source": [
    "import json\n",
    "with open('/Users/marcolaureano2/.secret/yelp_api.json') as f:\n",
    "    login = json.load(f)\n",
    "login.keys()"
   ]
  },
  {
   "cell_type": "code",
   "execution_count": 2,
   "id": "795e770f-3029-43cd-9c77-8884e29eb070",
   "metadata": {
    "tags": []
   },
   "outputs": [],
   "source": [
    "# Standard Imports\n",
    "import numpy as np\n",
    "import pandas as pd\n",
    "import matplotlib.pyplot as plt\n",
    "import seaborn as sns\n",
    "# Additional Imports\n",
    "import os, json, math, time\n",
    "from yelpapi import YelpAPI\n",
    "from tqdm.notebook import tqdm_notebook"
   ]
  },
  {
   "cell_type": "code",
   "execution_count": 3,
   "id": "c72fcc6a-69d9-4a27-82fa-be9b5b77e088",
   "metadata": {
    "tags": []
   },
   "outputs": [
    {
     "name": "stdout",
     "output_type": "stream",
     "text": [
      "Requirement already satisfied: yelpapi in /Users/marcolaureano2/anaconda3/envs/dojo-env/lib/python3.10/site-packages (2.5.0)\n",
      "Requirement already satisfied: requests in /Users/marcolaureano2/anaconda3/envs/dojo-env/lib/python3.10/site-packages (from yelpapi) (2.29.0)\n",
      "Requirement already satisfied: urllib3<1.27,>=1.21.1 in /Users/marcolaureano2/anaconda3/envs/dojo-env/lib/python3.10/site-packages (from requests->yelpapi) (1.26.15)\n",
      "Requirement already satisfied: idna<4,>=2.5 in /Users/marcolaureano2/anaconda3/envs/dojo-env/lib/python3.10/site-packages (from requests->yelpapi) (3.4)\n",
      "Requirement already satisfied: certifi>=2017.4.17 in /Users/marcolaureano2/anaconda3/envs/dojo-env/lib/python3.10/site-packages (from requests->yelpapi) (2023.5.7)\n",
      "Requirement already satisfied: charset-normalizer<4,>=2 in /Users/marcolaureano2/anaconda3/envs/dojo-env/lib/python3.10/site-packages (from requests->yelpapi) (2.0.4)\n",
      "Note: you may need to restart the kernel to use updated packages.\n"
     ]
    }
   ],
   "source": [
    "pip install yelpapi"
   ]
  },
  {
   "cell_type": "code",
   "execution_count": 4,
   "id": "523de03c-5f27-4de8-b126-7f6f95a05760",
   "metadata": {
    "tags": []
   },
   "outputs": [
    {
     "data": {
      "text/plain": [
       "<yelpapi.yelpapi.YelpAPI at 0x19b59c610>"
      ]
     },
     "execution_count": 4,
     "metadata": {},
     "output_type": "execute_result"
    }
   ],
   "source": [
    "from yelpapi import YelpAPI\n",
    "yelp_api = YelpAPI(login['api-key'], timeout_s=5.0)\n",
    "yelp_api"
   ]
  },
  {
   "cell_type": "code",
   "execution_count": 5,
   "id": "0d1c65ac-8f81-4ba7-a9d1-460ccd407e94",
   "metadata": {},
   "outputs": [],
   "source": [
    "# define search\n",
    "LOCATION = 'LA, CA'\n",
    "TERM = 'Taco'"
   ]
  },
  {
   "cell_type": "code",
   "execution_count": 6,
   "id": "329f1028-9b1e-44ba-9096-dd917f4f1262",
   "metadata": {
    "tags": []
   },
   "outputs": [
    {
     "data": {
      "text/plain": [
       "'Data/results_in_progress_LA_tacos.json'"
      ]
     },
     "execution_count": 6,
     "metadata": {},
     "output_type": "execute_result"
    }
   ],
   "source": [
    "# create results-in-progress JSON file\n",
    "JSON_LA_TACOS = 'Data/results_in_progress_LA_tacos.json'\n",
    "JSON_LA_TACOS"
   ]
  },
  {
   "cell_type": "code",
   "execution_count": 13,
   "id": "f05c5995-808f-4cbf-8eae-4eceaabf85c4",
   "metadata": {
    "tags": []
   },
   "outputs": [],
   "source": [
    "def create_json_file(JSON_LA_TACOS,  delete_if_exists=False):\n",
    "    \n",
    "    ## Check if JSON_FILE exists\n",
    "    file_exists = os.path.isfile(JSON_LA_TACOS)\n",
    "    \n",
    "    ## If it DOES exist:\n",
    "    if file_exists == True:\n",
    "        \n",
    "        ## Check if user wants to delete if exists\n",
    "        if delete_if_exists==True:\n",
    "            \n",
    "            print(f\"[!] {JSON_LA_TACOS} already exists. Deleting previous file...\")\n",
    "            ## delete file and confirm it no longer exits.\n",
    "            os.remove(JSON_LA_TACOS)\n",
    "            ## Recursive call to function after old file deleted\n",
    "            create_json_file(JSON_LA_TACOS,delete_if_exists=False)\n",
    "        else:\n",
    "            print(f\"[i] {JSON_LA_TACOS} already exists.\")            \n",
    "            \n",
    "            \n",
    "    ## If it does NOT exist:\n",
    "    else:\n",
    "        \n",
    "        ## INFORM USER AND SAVE EMPTY LIST\n",
    "        print(f\"[i] {JSON_LA_TACOS} not found. Saving empty list to new file.\")\n",
    "        \n",
    "        ## CREATE ANY NEEDED FOLDERS\n",
    "        # Get the Folder Name only\n",
    "        folder = os.path.dirname(JSON_LA_TACOS)\n",
    "        \n",
    "        ## If JSON_FILE included a folder:\n",
    "        if len(folder)>0:\n",
    "            # create the folder\n",
    "            os.makedirs(folder,exist_ok=True)\n",
    "        ## Save empty list to start the json file\n",
    "        with open(JSON_LA_TACOS,'w') as f:\n",
    "            json.dump([],f)  \n"
   ]
  },
  {
   "cell_type": "code",
   "execution_count": 14,
   "id": "197efccb-df7a-4282-af57-fa41186d6067",
   "metadata": {
    "tags": []
   },
   "outputs": [
    {
     "name": "stdout",
     "output_type": "stream",
     "text": [
      "[!] Data/results_in_progress_LA_tacos.json already exists. Deleting previous file...\n",
      "[i] Data/results_in_progress_LA_tacos.json not found. Saving empty list to new file.\n",
      "- 0 previous results found.\n"
     ]
    },
    {
     "data": {
      "text/plain": [
       "615"
      ]
     },
     "execution_count": 14,
     "metadata": {},
     "output_type": "execute_result"
    }
   ],
   "source": [
    "# Create a new empty json file (exist the previous if it exists)\n",
    "create_json_file(JSON_LA_TACOS, delete_if_exists=True)\n",
    "## Load previous results and use len of results for offset\n",
    "with open(JSON_LA_TACOS,'r') as f:\n",
    "    previous_results = json.load(f)\n",
    "    \n",
    "# set offset based on previous results\n",
    "n_results = len(previous_results)\n",
    "print(f'- {n_results} previous results found.')\n",
    "# use our yelp_api variable's search_query method to perform our API call\n",
    "results = yelp_api.search_query(location=LOCATION,\n",
    "                                term=TERM,\n",
    "                               offset=n_results)\n",
    "# How many results total?\n",
    "total_results = results['total']\n",
    "## How many did we get the details for?\n",
    "results_per_page = len(results['businesses'])\n",
    "# Use math.ceil to round up for the total number of pages of results.\n",
    "n_pages = math.ceil((results['total']-n_results)/ results_per_page)\n",
    "n_pages\n"
   ]
  },
  {
   "cell_type": "code",
   "execution_count": 15,
   "id": "adbbcb13-4117-41bc-8be8-a6aac2e24509",
   "metadata": {
    "tags": []
   },
   "outputs": [
    {
     "data": {
      "text/plain": [
       "dict_keys(['businesses', 'total', 'region'])"
      ]
     },
     "execution_count": 15,
     "metadata": {},
     "output_type": "execute_result"
    }
   ],
   "source": [
    "# use yelp_api variable's search_query method to perform API call\n",
    "results = yelp_api.search_query(location=LOCATION,\n",
    "                                term=TERM, offset=n_results)\n",
    "results.keys()\n"
   ]
  },
  {
   "cell_type": "code",
   "execution_count": 16,
   "id": "59e2ffd0-4f46-405a-af1a-f9fe403730b8",
   "metadata": {
    "tags": []
   },
   "outputs": [
    {
     "data": {
      "text/plain": [
       "12300"
      ]
     },
     "execution_count": 16,
     "metadata": {},
     "output_type": "execute_result"
    }
   ],
   "source": [
    "# How many results\n",
    "total_results = results['total']\n",
    "total_results"
   ]
  },
  {
   "cell_type": "code",
   "execution_count": 17,
   "id": "2ac6d3a3-1d50-44db-93ad-baa8d91bcec2",
   "metadata": {
    "tags": []
   },
   "outputs": [
    {
     "data": {
      "text/plain": [
       "20"
      ]
     },
     "execution_count": 17,
     "metadata": {},
     "output_type": "execute_result"
    }
   ],
   "source": [
    "## How many did we get the details for?\n",
    "results_per_page = len(results['businesses'])\n",
    "results_per_page"
   ]
  },
  {
   "cell_type": "code",
   "execution_count": 18,
   "id": "e6665b94-8940-419b-b41b-78291654f538",
   "metadata": {
    "tags": []
   },
   "outputs": [
    {
     "data": {
      "text/plain": [
       "615"
      ]
     },
     "execution_count": 18,
     "metadata": {},
     "output_type": "execute_result"
    }
   ],
   "source": [
    "# import additional packages for controlling loop\n",
    "import time, math\n",
    "# Use math.ceil to round up for the total number of pages of results.\n",
    "n_pages = math.ceil((results['total']-n_results)/ results_per_page)\n",
    "n_pages"
   ]
  },
  {
   "cell_type": "code",
   "execution_count": 19,
   "id": "801ac97f-88fc-47b9-bd3f-49c5a125507b",
   "metadata": {
    "tags": []
   },
   "outputs": [
    {
     "data": {
      "application/vnd.jupyter.widget-view+json": {
       "model_id": "5f57c53387c24a2095adf980bfab8021",
       "version_major": 2,
       "version_minor": 0
      },
      "text/plain": [
       "  0%|          | 0/615 [00:00<?, ?it/s]"
      ]
     },
     "metadata": {},
     "output_type": "display_data"
    }
   ],
   "source": [
    "# import progressbar from time\n",
    "for i in tqdm_notebook(range(n_pages)):\n",
    "    # adds 200 ms pause\n",
    "    time.sleep(.2) "
   ]
  },
  {
   "cell_type": "code",
   "execution_count": 20,
   "id": "b9a7689f-59f8-4441-914b-a8a4b967557f",
   "metadata": {
    "tags": []
   },
   "outputs": [
    {
     "data": {
      "application/vnd.jupyter.widget-view+json": {
       "model_id": "dbd81557e5b4449db062574aa1975e0f",
       "version_major": 2,
       "version_minor": 0
      },
      "text/plain": [
       "  0%|          | 0/615 [00:00<?, ?it/s]"
      ]
     },
     "metadata": {},
     "output_type": "display_data"
    },
    {
     "name": "stdout",
     "output_type": "stream",
     "text": [
      "Exceeded 1000 api calls. Stopping loop.\n"
     ]
    }
   ],
   "source": [
    "for i in tqdm_notebook( range(1,n_pages+1)):\n",
    "    \n",
    "    ## Read in results in progress file and check the length\n",
    "    with open(JSON_LA_TACOS, 'r') as f:\n",
    "        previous_results = json.load(f)\n",
    "    ## save number of results for to use as offset\n",
    "    n_results = len(previous_results)\n",
    "    \n",
    "    if (n_results + results_per_page) > 1000:\n",
    "        print('Exceeded 1000 api calls. Stopping loop.')\n",
    "        break\n",
    "    \n",
    "    ## use n_results as the OFFSET \n",
    "    results = yelp_api.search_query(location=LOCATION,\n",
    "                                    term=TERM, \n",
    "                                    offset=n_results)\n",
    "    \n",
    "    \n",
    "    \n",
    "    ## append new results and save to file\n",
    "    previous_results.extend(results['businesses'])\n",
    "    \n",
    "    # display(previous_results)\n",
    "    with open(JSON_LA_TACOS,'w') as f:\n",
    "        json.dump(previous_results,f)\n",
    "    \n",
    "    time.sleep(.2)"
   ]
  },
  {
   "cell_type": "code",
   "execution_count": 21,
   "id": "7cb0b9bb-21fa-453d-9d78-057115bd29bb",
   "metadata": {},
   "outputs": [
    {
     "data": {
      "text/html": [
       "<div>\n",
       "<style scoped>\n",
       "    .dataframe tbody tr th:only-of-type {\n",
       "        vertical-align: middle;\n",
       "    }\n",
       "\n",
       "    .dataframe tbody tr th {\n",
       "        vertical-align: top;\n",
       "    }\n",
       "\n",
       "    .dataframe thead th {\n",
       "        text-align: right;\n",
       "    }\n",
       "</style>\n",
       "<table border=\"1\" class=\"dataframe\">\n",
       "  <thead>\n",
       "    <tr style=\"text-align: right;\">\n",
       "      <th></th>\n",
       "      <th>id</th>\n",
       "      <th>alias</th>\n",
       "      <th>name</th>\n",
       "      <th>image_url</th>\n",
       "      <th>is_closed</th>\n",
       "      <th>url</th>\n",
       "      <th>review_count</th>\n",
       "      <th>categories</th>\n",
       "      <th>rating</th>\n",
       "      <th>coordinates</th>\n",
       "      <th>transactions</th>\n",
       "      <th>price</th>\n",
       "      <th>location</th>\n",
       "      <th>phone</th>\n",
       "      <th>display_phone</th>\n",
       "      <th>distance</th>\n",
       "    </tr>\n",
       "  </thead>\n",
       "  <tbody>\n",
       "    <tr>\n",
       "      <th>0</th>\n",
       "      <td>QKovUc1TmSNtZh0j5ZEagw</td>\n",
       "      <td>leos-tacos-truck-los-angeles</td>\n",
       "      <td>Leo's Tacos Truck</td>\n",
       "      <td>https://s3-media1.fl.yelpcdn.com/bphoto/ca0rQt...</td>\n",
       "      <td>False</td>\n",
       "      <td>https://www.yelp.com/biz/leos-tacos-truck-los-...</td>\n",
       "      <td>2332</td>\n",
       "      <td>[{'alias': 'foodtrucks', 'title': 'Food Trucks...</td>\n",
       "      <td>4.5</td>\n",
       "      <td>{'latitude': 34.046438, 'longitude': -118.345718}</td>\n",
       "      <td>[]</td>\n",
       "      <td>$</td>\n",
       "      <td>{'address1': '1515 S La Brea Ave', 'address2':...</td>\n",
       "      <td>+13233462001</td>\n",
       "      <td>(323) 346-2001</td>\n",
       "      <td>2804.549875</td>\n",
       "    </tr>\n",
       "    <tr>\n",
       "      <th>1</th>\n",
       "      <td>tpg43fTxsQ92XkRngtlK3Q</td>\n",
       "      <td>villas-tacos-los-angeles</td>\n",
       "      <td>Villa's Tacos</td>\n",
       "      <td>https://s3-media3.fl.yelpcdn.com/bphoto/7fDXSG...</td>\n",
       "      <td>False</td>\n",
       "      <td>https://www.yelp.com/biz/villas-tacos-los-ange...</td>\n",
       "      <td>403</td>\n",
       "      <td>[{'alias': 'tacos', 'title': 'Tacos'}]</td>\n",
       "      <td>4.5</td>\n",
       "      <td>{'latitude': 34.108734, 'longitude': -118.196636}</td>\n",
       "      <td>[]</td>\n",
       "      <td>$$</td>\n",
       "      <td>{'address1': '5455 N Figueroa St', 'address2':...</td>\n",
       "      <td>+18187418011</td>\n",
       "      <td>(818) 741-8011</td>\n",
       "      <td>12603.715792</td>\n",
       "    </tr>\n",
       "    <tr>\n",
       "      <th>2</th>\n",
       "      <td>BDRVlHnK4l0T0ANb7M-Eqg</td>\n",
       "      <td>guisados-los-angeles-3</td>\n",
       "      <td>Guisados</td>\n",
       "      <td>https://s3-media1.fl.yelpcdn.com/bphoto/JqGxcZ...</td>\n",
       "      <td>False</td>\n",
       "      <td>https://www.yelp.com/biz/guisados-los-angeles-...</td>\n",
       "      <td>2429</td>\n",
       "      <td>[{'alias': 'mexican', 'title': 'Mexican'}]</td>\n",
       "      <td>4.5</td>\n",
       "      <td>{'latitude': 34.0702395145121, 'longitude': -1...</td>\n",
       "      <td>[delivery, pickup]</td>\n",
       "      <td>$$</td>\n",
       "      <td>{'address1': '1261 W Sunset Blvd', 'address2':...</td>\n",
       "      <td>+12132507600</td>\n",
       "      <td>(213) 250-7600</td>\n",
       "      <td>6604.197847</td>\n",
       "    </tr>\n",
       "    <tr>\n",
       "      <th>3</th>\n",
       "      <td>TZFTVm9WbsWILRdY98SYtA</td>\n",
       "      <td>tacos-el-compita-los-angeles-4</td>\n",
       "      <td>Tacos El Compita</td>\n",
       "      <td>https://s3-media1.fl.yelpcdn.com/bphoto/0KHZ-N...</td>\n",
       "      <td>False</td>\n",
       "      <td>https://www.yelp.com/biz/tacos-el-compita-los-...</td>\n",
       "      <td>387</td>\n",
       "      <td>[{'alias': 'streetvendors', 'title': 'Street V...</td>\n",
       "      <td>4.5</td>\n",
       "      <td>{'latitude': 34.0485400612365, 'longitude': -1...</td>\n",
       "      <td>[delivery, pickup]</td>\n",
       "      <td>$</td>\n",
       "      <td>{'address1': '4477 W Pico Blvd', 'address2': '...</td>\n",
       "      <td>+13239350490</td>\n",
       "      <td>(323) 935-0490</td>\n",
       "      <td>1788.745970</td>\n",
       "    </tr>\n",
       "    <tr>\n",
       "      <th>4</th>\n",
       "      <td>FvG80RRM9jYBK8T-NL_-sg</td>\n",
       "      <td>papi-tacos-and-churros-los-angeles-2</td>\n",
       "      <td>Papi Tacos &amp; Churros</td>\n",
       "      <td>https://s3-media3.fl.yelpcdn.com/bphoto/ixVx5j...</td>\n",
       "      <td>False</td>\n",
       "      <td>https://www.yelp.com/biz/papi-tacos-and-churro...</td>\n",
       "      <td>306</td>\n",
       "      <td>[{'alias': 'desserts', 'title': 'Desserts'}, {...</td>\n",
       "      <td>4.5</td>\n",
       "      <td>{'latitude': 34.0951, 'longitude': -118.32645}</td>\n",
       "      <td>[]</td>\n",
       "      <td>$$</td>\n",
       "      <td>{'address1': '1320 Vine St', 'address2': None,...</td>\n",
       "      <td>+13235369800</td>\n",
       "      <td>(323) 536-9800</td>\n",
       "      <td>3763.355024</td>\n",
       "    </tr>\n",
       "  </tbody>\n",
       "</table>\n",
       "</div>"
      ],
      "text/plain": [
       "                       id                                 alias  \\\n",
       "0  QKovUc1TmSNtZh0j5ZEagw          leos-tacos-truck-los-angeles   \n",
       "1  tpg43fTxsQ92XkRngtlK3Q              villas-tacos-los-angeles   \n",
       "2  BDRVlHnK4l0T0ANb7M-Eqg                guisados-los-angeles-3   \n",
       "3  TZFTVm9WbsWILRdY98SYtA        tacos-el-compita-los-angeles-4   \n",
       "4  FvG80RRM9jYBK8T-NL_-sg  papi-tacos-and-churros-los-angeles-2   \n",
       "\n",
       "                   name                                          image_url  \\\n",
       "0     Leo's Tacos Truck  https://s3-media1.fl.yelpcdn.com/bphoto/ca0rQt...   \n",
       "1         Villa's Tacos  https://s3-media3.fl.yelpcdn.com/bphoto/7fDXSG...   \n",
       "2              Guisados  https://s3-media1.fl.yelpcdn.com/bphoto/JqGxcZ...   \n",
       "3      Tacos El Compita  https://s3-media1.fl.yelpcdn.com/bphoto/0KHZ-N...   \n",
       "4  Papi Tacos & Churros  https://s3-media3.fl.yelpcdn.com/bphoto/ixVx5j...   \n",
       "\n",
       "   is_closed                                                url  review_count  \\\n",
       "0      False  https://www.yelp.com/biz/leos-tacos-truck-los-...          2332   \n",
       "1      False  https://www.yelp.com/biz/villas-tacos-los-ange...           403   \n",
       "2      False  https://www.yelp.com/biz/guisados-los-angeles-...          2429   \n",
       "3      False  https://www.yelp.com/biz/tacos-el-compita-los-...           387   \n",
       "4      False  https://www.yelp.com/biz/papi-tacos-and-churro...           306   \n",
       "\n",
       "                                          categories  rating  \\\n",
       "0  [{'alias': 'foodtrucks', 'title': 'Food Trucks...     4.5   \n",
       "1             [{'alias': 'tacos', 'title': 'Tacos'}]     4.5   \n",
       "2         [{'alias': 'mexican', 'title': 'Mexican'}]     4.5   \n",
       "3  [{'alias': 'streetvendors', 'title': 'Street V...     4.5   \n",
       "4  [{'alias': 'desserts', 'title': 'Desserts'}, {...     4.5   \n",
       "\n",
       "                                         coordinates        transactions  \\\n",
       "0  {'latitude': 34.046438, 'longitude': -118.345718}                  []   \n",
       "1  {'latitude': 34.108734, 'longitude': -118.196636}                  []   \n",
       "2  {'latitude': 34.0702395145121, 'longitude': -1...  [delivery, pickup]   \n",
       "3  {'latitude': 34.0485400612365, 'longitude': -1...  [delivery, pickup]   \n",
       "4     {'latitude': 34.0951, 'longitude': -118.32645}                  []   \n",
       "\n",
       "  price                                           location         phone  \\\n",
       "0     $  {'address1': '1515 S La Brea Ave', 'address2':...  +13233462001   \n",
       "1    $$  {'address1': '5455 N Figueroa St', 'address2':...  +18187418011   \n",
       "2    $$  {'address1': '1261 W Sunset Blvd', 'address2':...  +12132507600   \n",
       "3     $  {'address1': '4477 W Pico Blvd', 'address2': '...  +13239350490   \n",
       "4    $$  {'address1': '1320 Vine St', 'address2': None,...  +13235369800   \n",
       "\n",
       "    display_phone      distance  \n",
       "0  (323) 346-2001   2804.549875  \n",
       "1  (818) 741-8011  12603.715792  \n",
       "2  (213) 250-7600   6604.197847  \n",
       "3  (323) 935-0490   1788.745970  \n",
       "4  (323) 536-9800   3763.355024  "
      ]
     },
     "metadata": {},
     "output_type": "display_data"
    },
    {
     "data": {
      "text/html": [
       "<div>\n",
       "<style scoped>\n",
       "    .dataframe tbody tr th:only-of-type {\n",
       "        vertical-align: middle;\n",
       "    }\n",
       "\n",
       "    .dataframe tbody tr th {\n",
       "        vertical-align: top;\n",
       "    }\n",
       "\n",
       "    .dataframe thead th {\n",
       "        text-align: right;\n",
       "    }\n",
       "</style>\n",
       "<table border=\"1\" class=\"dataframe\">\n",
       "  <thead>\n",
       "    <tr style=\"text-align: right;\">\n",
       "      <th></th>\n",
       "      <th>id</th>\n",
       "      <th>alias</th>\n",
       "      <th>name</th>\n",
       "      <th>image_url</th>\n",
       "      <th>is_closed</th>\n",
       "      <th>url</th>\n",
       "      <th>review_count</th>\n",
       "      <th>categories</th>\n",
       "      <th>rating</th>\n",
       "      <th>coordinates</th>\n",
       "      <th>transactions</th>\n",
       "      <th>price</th>\n",
       "      <th>location</th>\n",
       "      <th>phone</th>\n",
       "      <th>display_phone</th>\n",
       "      <th>distance</th>\n",
       "    </tr>\n",
       "  </thead>\n",
       "  <tbody>\n",
       "    <tr>\n",
       "      <th>995</th>\n",
       "      <td>SsOlRN_7cKsHlek_RyohvQ</td>\n",
       "      <td>la-tostaderia-los-angeles</td>\n",
       "      <td>La Tostaderia</td>\n",
       "      <td>https://s3-media4.fl.yelpcdn.com/bphoto/D6tHvi...</td>\n",
       "      <td>False</td>\n",
       "      <td>https://www.yelp.com/biz/la-tostaderia-los-ang...</td>\n",
       "      <td>452</td>\n",
       "      <td>[{'alias': 'seafood', 'title': 'Seafood'}, {'a...</td>\n",
       "      <td>4.0</td>\n",
       "      <td>{'latitude': 34.050713, 'longitude': -118.248882}</td>\n",
       "      <td>[pickup, delivery]</td>\n",
       "      <td>$$</td>\n",
       "      <td>{'address1': '317 S Broadway', 'address2': '',...</td>\n",
       "      <td>+12136283430</td>\n",
       "      <td>(213) 628-3430</td>\n",
       "      <td>6787.457874</td>\n",
       "    </tr>\n",
       "    <tr>\n",
       "      <th>996</th>\n",
       "      <td>PrvGlIM0L99VY-AgkFJRMw</td>\n",
       "      <td>juana-la-cubana-los-angeles</td>\n",
       "      <td>Juana La Cubana</td>\n",
       "      <td>https://s3-media4.fl.yelpcdn.com/bphoto/LvEJto...</td>\n",
       "      <td>False</td>\n",
       "      <td>https://www.yelp.com/biz/juana-la-cubana-los-a...</td>\n",
       "      <td>19</td>\n",
       "      <td>[{'alias': 'mexican', 'title': 'Mexican'}, {'a...</td>\n",
       "      <td>4.0</td>\n",
       "      <td>{'latitude': 34.0310740470886, 'longitude': -1...</td>\n",
       "      <td>[]</td>\n",
       "      <td>$</td>\n",
       "      <td>{'address1': '1946 S Hill St', 'address2': '',...</td>\n",
       "      <td></td>\n",
       "      <td></td>\n",
       "      <td>6018.341894</td>\n",
       "    </tr>\n",
       "    <tr>\n",
       "      <th>997</th>\n",
       "      <td>ODtZklkDPudH3_Zze5wQ8w</td>\n",
       "      <td>tacos-el-guero-arcadia-4</td>\n",
       "      <td>Tacos El Guero</td>\n",
       "      <td>https://s3-media3.fl.yelpcdn.com/bphoto/OxU0ZQ...</td>\n",
       "      <td>False</td>\n",
       "      <td>https://www.yelp.com/biz/tacos-el-guero-arcadi...</td>\n",
       "      <td>6</td>\n",
       "      <td>[{'alias': 'tacos', 'title': 'Tacos'}]</td>\n",
       "      <td>5.0</td>\n",
       "      <td>{'latitude': 34.124260743233584, 'longitude': ...</td>\n",
       "      <td>[]</td>\n",
       "      <td>NaN</td>\n",
       "      <td>{'address1': '729 W Naomi Ave', 'address2': No...</td>\n",
       "      <td>+13237403541</td>\n",
       "      <td>(323) 740-3541</td>\n",
       "      <td>25385.571318</td>\n",
       "    </tr>\n",
       "    <tr>\n",
       "      <th>998</th>\n",
       "      <td>tqjJYK3KyBjHRDsMT9kCpw</td>\n",
       "      <td>oi-asian-fusion-los-angeles-4</td>\n",
       "      <td>Oi Asian Fusion</td>\n",
       "      <td>https://s3-media2.fl.yelpcdn.com/bphoto/HVIgNp...</td>\n",
       "      <td>False</td>\n",
       "      <td>https://www.yelp.com/biz/oi-asian-fusion-los-a...</td>\n",
       "      <td>634</td>\n",
       "      <td>[{'alias': 'filipino', 'title': 'Filipino'}, {...</td>\n",
       "      <td>4.5</td>\n",
       "      <td>{'latitude': 34.1015109972374, 'longitude': -1...</td>\n",
       "      <td>[pickup, delivery]</td>\n",
       "      <td>$</td>\n",
       "      <td>{'address1': '4734 Hollywood Blvd', 'address2'...</td>\n",
       "      <td>+12134581945</td>\n",
       "      <td>(213) 458-1945</td>\n",
       "      <td>5148.452044</td>\n",
       "    </tr>\n",
       "    <tr>\n",
       "      <th>999</th>\n",
       "      <td>ZzUhGHxbs506GVy-WLb4mw</td>\n",
       "      <td>la-morenita-restaurant-los-angeles</td>\n",
       "      <td>La Morenita Restaurant</td>\n",
       "      <td>https://s3-media3.fl.yelpcdn.com/bphoto/M32SBA...</td>\n",
       "      <td>False</td>\n",
       "      <td>https://www.yelp.com/biz/la-morenita-restauran...</td>\n",
       "      <td>103</td>\n",
       "      <td>[{'alias': 'mexican', 'title': 'Mexican'}]</td>\n",
       "      <td>4.0</td>\n",
       "      <td>{'latitude': 34.07328, 'longitude': -118.2149}</td>\n",
       "      <td>[pickup, delivery]</td>\n",
       "      <td>$</td>\n",
       "      <td>{'address1': '2620 N Broadway', 'address2': ''...</td>\n",
       "      <td>+13232211687</td>\n",
       "      <td>(323) 221-1687</td>\n",
       "      <td>9897.004117</td>\n",
       "    </tr>\n",
       "  </tbody>\n",
       "</table>\n",
       "</div>"
      ],
      "text/plain": [
       "                         id                               alias  \\\n",
       "995  SsOlRN_7cKsHlek_RyohvQ           la-tostaderia-los-angeles   \n",
       "996  PrvGlIM0L99VY-AgkFJRMw         juana-la-cubana-los-angeles   \n",
       "997  ODtZklkDPudH3_Zze5wQ8w            tacos-el-guero-arcadia-4   \n",
       "998  tqjJYK3KyBjHRDsMT9kCpw       oi-asian-fusion-los-angeles-4   \n",
       "999  ZzUhGHxbs506GVy-WLb4mw  la-morenita-restaurant-los-angeles   \n",
       "\n",
       "                       name  \\\n",
       "995           La Tostaderia   \n",
       "996         Juana La Cubana   \n",
       "997          Tacos El Guero   \n",
       "998         Oi Asian Fusion   \n",
       "999  La Morenita Restaurant   \n",
       "\n",
       "                                             image_url  is_closed  \\\n",
       "995  https://s3-media4.fl.yelpcdn.com/bphoto/D6tHvi...      False   \n",
       "996  https://s3-media4.fl.yelpcdn.com/bphoto/LvEJto...      False   \n",
       "997  https://s3-media3.fl.yelpcdn.com/bphoto/OxU0ZQ...      False   \n",
       "998  https://s3-media2.fl.yelpcdn.com/bphoto/HVIgNp...      False   \n",
       "999  https://s3-media3.fl.yelpcdn.com/bphoto/M32SBA...      False   \n",
       "\n",
       "                                                   url  review_count  \\\n",
       "995  https://www.yelp.com/biz/la-tostaderia-los-ang...           452   \n",
       "996  https://www.yelp.com/biz/juana-la-cubana-los-a...            19   \n",
       "997  https://www.yelp.com/biz/tacos-el-guero-arcadi...             6   \n",
       "998  https://www.yelp.com/biz/oi-asian-fusion-los-a...           634   \n",
       "999  https://www.yelp.com/biz/la-morenita-restauran...           103   \n",
       "\n",
       "                                            categories  rating  \\\n",
       "995  [{'alias': 'seafood', 'title': 'Seafood'}, {'a...     4.0   \n",
       "996  [{'alias': 'mexican', 'title': 'Mexican'}, {'a...     4.0   \n",
       "997             [{'alias': 'tacos', 'title': 'Tacos'}]     5.0   \n",
       "998  [{'alias': 'filipino', 'title': 'Filipino'}, {...     4.5   \n",
       "999         [{'alias': 'mexican', 'title': 'Mexican'}]     4.0   \n",
       "\n",
       "                                           coordinates        transactions  \\\n",
       "995  {'latitude': 34.050713, 'longitude': -118.248882}  [pickup, delivery]   \n",
       "996  {'latitude': 34.0310740470886, 'longitude': -1...                  []   \n",
       "997  {'latitude': 34.124260743233584, 'longitude': ...                  []   \n",
       "998  {'latitude': 34.1015109972374, 'longitude': -1...  [pickup, delivery]   \n",
       "999     {'latitude': 34.07328, 'longitude': -118.2149}  [pickup, delivery]   \n",
       "\n",
       "    price                                           location         phone  \\\n",
       "995    $$  {'address1': '317 S Broadway', 'address2': '',...  +12136283430   \n",
       "996     $  {'address1': '1946 S Hill St', 'address2': '',...                 \n",
       "997   NaN  {'address1': '729 W Naomi Ave', 'address2': No...  +13237403541   \n",
       "998     $  {'address1': '4734 Hollywood Blvd', 'address2'...  +12134581945   \n",
       "999     $  {'address1': '2620 N Broadway', 'address2': ''...  +13232211687   \n",
       "\n",
       "      display_phone      distance  \n",
       "995  (213) 628-3430   6787.457874  \n",
       "996                   6018.341894  \n",
       "997  (323) 740-3541  25385.571318  \n",
       "998  (213) 458-1945   5148.452044  \n",
       "999  (323) 221-1687   9897.004117  "
      ]
     },
     "metadata": {},
     "output_type": "display_data"
    }
   ],
   "source": [
    "# Convert json to df\n",
    "results_df = pd.read_json(JSON_LA_TACOS)\n",
    "display(results_df.head(), results_df.tail())"
   ]
  },
  {
   "cell_type": "code",
   "execution_count": 23,
   "id": "b637cf55-950f-4310-a9fc-faae045273b8",
   "metadata": {
    "tags": []
   },
   "outputs": [
    {
     "data": {
      "text/plain": [
       "154"
      ]
     },
     "execution_count": 23,
     "metadata": {},
     "output_type": "execute_result"
    }
   ],
   "source": [
    "# Check for duplicates\n",
    "results_df.duplicated(subset='id').sum()"
   ]
  },
  {
   "cell_type": "code",
   "execution_count": 24,
   "id": "031d205c-07dc-4dc1-b68e-f6871ff018db",
   "metadata": {
    "tags": []
   },
   "outputs": [
    {
     "data": {
      "text/plain": [
       "0"
      ]
     },
     "execution_count": 24,
     "metadata": {},
     "output_type": "execute_result"
    }
   ],
   "source": [
    "# drop duplicates\n",
    "results_df = results_df.drop_duplicates(subset='id')\n",
    "results_df.duplicated(subset='id').sum()"
   ]
  },
  {
   "cell_type": "code",
   "execution_count": 25,
   "id": "cffcc0f4-12c3-4e87-841d-d65e9c2da9ac",
   "metadata": {
    "tags": []
   },
   "outputs": [],
   "source": [
    "# save results_df to a csv\n",
    "results_df.to_csv('Data/final_results_LA_tacos.csv.gz',\n",
    "compression='gzip', index=False)"
   ]
  },
  {
   "cell_type": "code",
   "execution_count": null,
   "id": "16d719a5-ffa2-4ba2-8a13-93ce474c9736",
   "metadata": {},
   "outputs": [],
   "source": []
  }
 ],
 "metadata": {
  "kernelspec": {
   "display_name": "Python (dojo-env)",
   "language": "python",
   "name": "dojo-env"
  },
  "language_info": {
   "codemirror_mode": {
    "name": "ipython",
    "version": 3
   },
   "file_extension": ".py",
   "mimetype": "text/x-python",
   "name": "python",
   "nbconvert_exporter": "python",
   "pygments_lexer": "ipython3",
   "version": "3.10.10"
  },
  "widgets": {
   "application/vnd.jupyter.widget-state+json": {
    "state": {
     "0021555d0b3545d2a8a33921a5610be6": {
      "model_module": "@jupyter-widgets/base",
      "model_module_version": "2.0.0",
      "model_name": "LayoutModel",
      "state": {}
     },
     "101ff92b148d48f2b408bc354c0988ef": {
      "model_module": "@jupyter-widgets/controls",
      "model_module_version": "2.0.0",
      "model_name": "HTMLModel",
      "state": {
       "layout": "IPY_MODEL_d382de8f79834fd9a4999f9751ba8a1f",
       "style": "IPY_MODEL_58886b38f0fd4b2c9ca9b21194d8d232",
       "value": "100%"
      }
     },
     "1bd8eae034754a31ba69d2cae565cb25": {
      "model_module": "@jupyter-widgets/controls",
      "model_module_version": "2.0.0",
      "model_name": "HTMLModel",
      "state": {
       "layout": "IPY_MODEL_d2c4bdd95430487c87dcad72c77d56be",
       "style": "IPY_MODEL_c2e1d72da21744219ef11efb378f02c8",
       "value": "  8%"
      }
     },
     "21102d9258914d8bafc8c297388507e2": {
      "model_module": "@jupyter-widgets/base",
      "model_module_version": "2.0.0",
      "model_name": "LayoutModel",
      "state": {}
     },
     "30c7dbaee50a47829f7e95337a46c2b2": {
      "model_module": "@jupyter-widgets/controls",
      "model_module_version": "2.0.0",
      "model_name": "FloatProgressModel",
      "state": {
       "bar_style": "success",
       "layout": "IPY_MODEL_de582c5e9fa4414c91c9fcb0b3e99704",
       "max": 615,
       "style": "IPY_MODEL_3b9d3b8d567f470491d2bfdf103e478e",
       "value": 615
      }
     },
     "310a79a6de9b4dd885b349a5a8898b5d": {
      "model_module": "@jupyter-widgets/base",
      "model_module_version": "2.0.0",
      "model_name": "LayoutModel",
      "state": {}
     },
     "3256f354b8b2452fbbf5d9947f0df11f": {
      "model_module": "@jupyter-widgets/controls",
      "model_module_version": "2.0.0",
      "model_name": "HTMLModel",
      "state": {
       "layout": "IPY_MODEL_0021555d0b3545d2a8a33921a5610be6",
       "style": "IPY_MODEL_774a78bef9e64c40aabdd08dbcdb66b9",
       "value": " 615/615 [02:05&lt;00:00,  4.92it/s]"
      }
     },
     "332c4010af3b42fe93b222fe257fd6cb": {
      "model_module": "@jupyter-widgets/base",
      "model_module_version": "2.0.0",
      "model_name": "LayoutModel",
      "state": {}
     },
     "3b9d3b8d567f470491d2bfdf103e478e": {
      "model_module": "@jupyter-widgets/controls",
      "model_module_version": "2.0.0",
      "model_name": "ProgressStyleModel",
      "state": {
       "description_width": ""
      }
     },
     "54c573cf53e0467dbb209f8d2de0872c": {
      "model_module": "@jupyter-widgets/controls",
      "model_module_version": "2.0.0",
      "model_name": "HTMLStyleModel",
      "state": {
       "description_width": "",
       "font_size": null,
       "text_color": null
      }
     },
     "58886b38f0fd4b2c9ca9b21194d8d232": {
      "model_module": "@jupyter-widgets/controls",
      "model_module_version": "2.0.0",
      "model_name": "HTMLStyleModel",
      "state": {
       "description_width": "",
       "font_size": null,
       "text_color": null
      }
     },
     "5e25f90e2ce84f658bd5ede210e062e8": {
      "model_module": "@jupyter-widgets/controls",
      "model_module_version": "2.0.0",
      "model_name": "FloatProgressModel",
      "state": {
       "bar_style": "danger",
       "layout": "IPY_MODEL_63d054261a2e4a908621331f8b48afd3",
       "max": 615,
       "style": "IPY_MODEL_6103e7163ea64c0f93dae26d1cffeb23",
       "value": 50
      }
     },
     "5f57c53387c24a2095adf980bfab8021": {
      "model_module": "@jupyter-widgets/controls",
      "model_module_version": "2.0.0",
      "model_name": "HBoxModel",
      "state": {
       "children": [
        "IPY_MODEL_101ff92b148d48f2b408bc354c0988ef",
        "IPY_MODEL_30c7dbaee50a47829f7e95337a46c2b2",
        "IPY_MODEL_3256f354b8b2452fbbf5d9947f0df11f"
       ],
       "layout": "IPY_MODEL_21102d9258914d8bafc8c297388507e2"
      }
     },
     "6103e7163ea64c0f93dae26d1cffeb23": {
      "model_module": "@jupyter-widgets/controls",
      "model_module_version": "2.0.0",
      "model_name": "ProgressStyleModel",
      "state": {
       "description_width": ""
      }
     },
     "63d054261a2e4a908621331f8b48afd3": {
      "model_module": "@jupyter-widgets/base",
      "model_module_version": "2.0.0",
      "model_name": "LayoutModel",
      "state": {}
     },
     "774a78bef9e64c40aabdd08dbcdb66b9": {
      "model_module": "@jupyter-widgets/controls",
      "model_module_version": "2.0.0",
      "model_name": "HTMLStyleModel",
      "state": {
       "description_width": "",
       "font_size": null,
       "text_color": null
      }
     },
     "a01974e7ab6745fab2cf565ced268f7c": {
      "model_module": "@jupyter-widgets/controls",
      "model_module_version": "2.0.0",
      "model_name": "HTMLModel",
      "state": {
       "layout": "IPY_MODEL_310a79a6de9b4dd885b349a5a8898b5d",
       "style": "IPY_MODEL_54c573cf53e0467dbb209f8d2de0872c",
       "value": " 50/615 [01:15&lt;18:17,  1.94s/it]"
      }
     },
     "c2e1d72da21744219ef11efb378f02c8": {
      "model_module": "@jupyter-widgets/controls",
      "model_module_version": "2.0.0",
      "model_name": "HTMLStyleModel",
      "state": {
       "description_width": "",
       "font_size": null,
       "text_color": null
      }
     },
     "d2c4bdd95430487c87dcad72c77d56be": {
      "model_module": "@jupyter-widgets/base",
      "model_module_version": "2.0.0",
      "model_name": "LayoutModel",
      "state": {}
     },
     "d382de8f79834fd9a4999f9751ba8a1f": {
      "model_module": "@jupyter-widgets/base",
      "model_module_version": "2.0.0",
      "model_name": "LayoutModel",
      "state": {}
     },
     "dbd81557e5b4449db062574aa1975e0f": {
      "model_module": "@jupyter-widgets/controls",
      "model_module_version": "2.0.0",
      "model_name": "HBoxModel",
      "state": {
       "children": [
        "IPY_MODEL_1bd8eae034754a31ba69d2cae565cb25",
        "IPY_MODEL_5e25f90e2ce84f658bd5ede210e062e8",
        "IPY_MODEL_a01974e7ab6745fab2cf565ced268f7c"
       ],
       "layout": "IPY_MODEL_332c4010af3b42fe93b222fe257fd6cb"
      }
     },
     "de582c5e9fa4414c91c9fcb0b3e99704": {
      "model_module": "@jupyter-widgets/base",
      "model_module_version": "2.0.0",
      "model_name": "LayoutModel",
      "state": {}
     }
    },
    "version_major": 2,
    "version_minor": 0
   }
  }
 },
 "nbformat": 4,
 "nbformat_minor": 5
}
