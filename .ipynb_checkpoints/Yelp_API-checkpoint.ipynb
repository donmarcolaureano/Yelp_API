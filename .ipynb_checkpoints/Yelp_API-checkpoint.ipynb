{
 "cells": [
  {
   "cell_type": "code",
   "execution_count": 1,
   "id": "dcbd8f70",
   "metadata": {
    "tags": []
   },
   "outputs": [
    {
     "data": {
      "text/plain": [
       "dict_keys(['client-id', 'api-key'])"
      ]
     },
     "execution_count": 1,
     "metadata": {},
     "output_type": "execute_result"
    }
   ],
   "source": [
    "import json\n",
    "with open('/Users/marcolaureano2/.secret/yelp_api.json') as f:\n",
    "    login = json.load(f)\n",
    "login.keys()"
   ]
  },
  {
   "cell_type": "code",
   "execution_count": 2,
   "id": "795e770f-3029-43cd-9c77-8884e29eb070",
   "metadata": {
    "tags": []
   },
   "outputs": [],
   "source": [
    "# Standard Imports\n",
    "import numpy as np\n",
    "import pandas as pd\n",
    "import matplotlib.pyplot as plt\n",
    "import seaborn as sns\n",
    "# Additional Imports\n",
    "import os, json, math, time\n",
    "from yelpapi import YelpAPI\n",
    "from tqdm.notebook import tqdm_notebook"
   ]
  },
  {
   "cell_type": "code",
   "execution_count": 3,
   "id": "c72fcc6a-69d9-4a27-82fa-be9b5b77e088",
   "metadata": {
    "tags": []
   },
   "outputs": [
    {
     "name": "stdout",
     "output_type": "stream",
     "text": [
      "Requirement already satisfied: yelpapi in /Users/marcolaureano2/anaconda3/envs/dojo-env/lib/python3.10/site-packages (2.5.0)\n",
      "Requirement already satisfied: requests in /Users/marcolaureano2/anaconda3/envs/dojo-env/lib/python3.10/site-packages (from yelpapi) (2.29.0)\n",
      "Requirement already satisfied: certifi>=2017.4.17 in /Users/marcolaureano2/anaconda3/envs/dojo-env/lib/python3.10/site-packages (from requests->yelpapi) (2023.5.7)\n",
      "Requirement already satisfied: urllib3<1.27,>=1.21.1 in /Users/marcolaureano2/anaconda3/envs/dojo-env/lib/python3.10/site-packages (from requests->yelpapi) (1.26.15)\n",
      "Requirement already satisfied: charset-normalizer<4,>=2 in /Users/marcolaureano2/anaconda3/envs/dojo-env/lib/python3.10/site-packages (from requests->yelpapi) (2.0.4)\n",
      "Requirement already satisfied: idna<4,>=2.5 in /Users/marcolaureano2/anaconda3/envs/dojo-env/lib/python3.10/site-packages (from requests->yelpapi) (3.4)\n",
      "Note: you may need to restart the kernel to use updated packages.\n"
     ]
    }
   ],
   "source": [
    "pip install yelpapi"
   ]
  },
  {
   "cell_type": "code",
   "execution_count": 4,
   "id": "523de03c-5f27-4de8-b126-7f6f95a05760",
   "metadata": {
    "tags": []
   },
   "outputs": [
    {
     "data": {
      "text/plain": [
       "<yelpapi.yelpapi.YelpAPI at 0x198ff3f10>"
      ]
     },
     "execution_count": 4,
     "metadata": {},
     "output_type": "execute_result"
    }
   ],
   "source": [
    "from yelpapi import YelpAPI\n",
    "yelp_api = YelpAPI(login['api-key'], timeout_s=5.0)\n",
    "yelp_api"
   ]
  },
  {
   "cell_type": "code",
   "execution_count": 5,
   "id": "0d1c65ac-8f81-4ba7-a9d1-460ccd407e94",
   "metadata": {},
   "outputs": [],
   "source": [
    "# define search\n",
    "LOCATION = 'LA, CA'\n",
    "TERM = 'Taco'"
   ]
  },
  {
   "cell_type": "code",
   "execution_count": 6,
   "id": "329f1028-9b1e-44ba-9096-dd917f4f1262",
   "metadata": {
    "tags": []
   },
   "outputs": [
    {
     "data": {
      "text/plain": [
       "'Data/results_in_progress_LA_tacos.json'"
      ]
     },
     "execution_count": 6,
     "metadata": {},
     "output_type": "execute_result"
    }
   ],
   "source": [
    "# create results-in-progress JSON file\n",
    "JSON_LA_TACOS = 'Data/results_in_progress_LA_tacos.json'\n",
    "JSON_LA_TACOS"
   ]
  },
  {
   "cell_type": "code",
   "execution_count": 14,
   "id": "17744151-da93-4955-9098-c7fe95d0dfb2",
   "metadata": {
    "tags": []
   },
   "outputs": [
    {
     "name": "stdout",
     "output_type": "stream",
     "text": [
      "[i] Data/results_in_progress_LA_tacos.json not found. Saving empty list to file.\n"
     ]
    }
   ],
   "source": [
    "# Check if JSON_FILE exists\n",
    "file_exists = os.path.isfile(JSON_LA_TACOS)\n",
    "## If it does not exist: \n",
    "if file_exists == False:\n",
    "    \n",
    "    folder = os.path.dirname(JSON_LA_TACOS)\n",
    "    if len(folder)>0:\n",
    "        # create the folder\n",
    "        os.makedirs(folder,exist_ok=True)\n",
    "        \n",
    "    print(f'[i] {JSON_LA_TACOS} not found. Saving empty list to file.')\n",
    "    \n",
    "    # save an empty list\n",
    "    with open(JSON_LA_TACOS,'w') as f:\n",
    "        json.dump([],f)  \n",
    "# If it exists, inform user\n",
    "else:\n",
    "    print(f\"[i] {JSON_LA_TACOS} already exists.\")"
   ]
  },
  {
   "cell_type": "code",
   "execution_count": 15,
   "id": "774301b6-c731-4149-aba8-8757f2311c9e",
   "metadata": {
    "tags": []
   },
   "outputs": [
    {
     "name": "stdout",
     "output_type": "stream",
     "text": [
      "- 0 previous results found.\n"
     ]
    }
   ],
   "source": [
    "# Load previous results and use len of results for offset\n",
    "with open(JSON_LA_TACOS,'r') as f:\n",
    "    previous_results = json.load(f)\n",
    "    \n",
    "# set offset based on previous results\n",
    "n_results = len(previous_results)\n",
    "print(f'- {n_results} previous results found.')\n"
   ]
  },
  {
   "cell_type": "code",
   "execution_count": 16,
   "id": "adbbcb13-4117-41bc-8be8-a6aac2e24509",
   "metadata": {
    "tags": []
   },
   "outputs": [
    {
     "data": {
      "text/plain": [
       "dict_keys(['businesses', 'total', 'region'])"
      ]
     },
     "execution_count": 16,
     "metadata": {},
     "output_type": "execute_result"
    }
   ],
   "source": [
    "# use yelp_api variable's search_query method to perform API call\n",
    "results = yelp_api.search_query(location=LOCATION,\n",
    "                                term=TERM, offset=n_results)\n",
    "results.keys()\n"
   ]
  },
  {
   "cell_type": "code",
   "execution_count": 17,
   "id": "59e2ffd0-4f46-405a-af1a-f9fe403730b8",
   "metadata": {
    "tags": []
   },
   "outputs": [
    {
     "data": {
      "text/plain": [
       "11700"
      ]
     },
     "execution_count": 17,
     "metadata": {},
     "output_type": "execute_result"
    }
   ],
   "source": [
    "# How many results\n",
    "total_results = results['total']\n",
    "total_results"
   ]
  },
  {
   "cell_type": "code",
   "execution_count": 18,
   "id": "2ac6d3a3-1d50-44db-93ad-baa8d91bcec2",
   "metadata": {
    "tags": []
   },
   "outputs": [
    {
     "data": {
      "text/plain": [
       "20"
      ]
     },
     "execution_count": 18,
     "metadata": {},
     "output_type": "execute_result"
    }
   ],
   "source": [
    "## How many did we get the details for?\n",
    "results_per_page = len(results['businesses'])\n",
    "results_per_page"
   ]
  },
  {
   "cell_type": "code",
   "execution_count": 19,
   "id": "e6665b94-8940-419b-b41b-78291654f538",
   "metadata": {
    "tags": []
   },
   "outputs": [
    {
     "data": {
      "text/plain": [
       "585"
      ]
     },
     "execution_count": 19,
     "metadata": {},
     "output_type": "execute_result"
    }
   ],
   "source": [
    "# import additional packages for controlling loop\n",
    "import time, math\n",
    "# Use math.ceil to round up for the total number of pages of results.\n",
    "n_pages = math.ceil((results['total']-n_results)/ results_per_page)\n",
    "n_pages"
   ]
  },
  {
   "cell_type": "code",
   "execution_count": null,
   "id": "801ac97f-88fc-47b9-bd3f-49c5a125507b",
   "metadata": {},
   "outputs": [],
   "source": []
  }
 ],
 "metadata": {
  "kernelspec": {
   "display_name": "Python (dojo-env)",
   "language": "python",
   "name": "dojo-env"
  },
  "language_info": {
   "codemirror_mode": {
    "name": "ipython",
    "version": 3
   },
   "file_extension": ".py",
   "mimetype": "text/x-python",
   "name": "python",
   "nbconvert_exporter": "python",
   "pygments_lexer": "ipython3",
   "version": "3.10.10"
  },
  "widgets": {
   "application/vnd.jupyter.widget-state+json": {
    "state": {},
    "version_major": 2,
    "version_minor": 0
   }
  }
 },
 "nbformat": 4,
 "nbformat_minor": 5
}
